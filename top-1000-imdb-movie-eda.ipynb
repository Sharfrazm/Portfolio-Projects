{
 "cells": [
  {
   "cell_type": "markdown",
   "id": "0ea13d12",
   "metadata": {
    "papermill": {
     "duration": 0.013521,
     "end_time": "2023-02-08T16:37:10.519042",
     "exception": false,
     "start_time": "2023-02-08T16:37:10.505521",
     "status": "completed"
    },
    "tags": []
   },
   "source": [
    "<a id='top'></a>\n",
    "<div class=\"list-group\" id=\"list-tab\" role=\"tablist\">\n",
    "<p style=\"background-color:#B7950B ;font-family:newtimeroman;color:black;font-size:300%;text-align:center;border-radius:60px 1px;\">Table of content </p> \n",
    "    \n",
    "<ul style = color:#black;font-size:160%;>\n",
    "    <li> Import librarries</li>\n",
    "    <li> Read dataset</li>\n",
    "    <li> Get information about data</li>\n",
    "    <li> Data cleaning</li>\n",
    "    <li> Data visualization & getting conclusions</li>\n",
    "</ul>"
   ]
  },
  {
   "cell_type": "markdown",
   "id": "9b8d6423",
   "metadata": {
    "papermill": {
     "duration": 0.010851,
     "end_time": "2023-02-08T16:37:10.542130",
     "exception": false,
     "start_time": "2023-02-08T16:37:10.531279",
     "status": "completed"
    },
    "tags": []
   },
   "source": [
    "<div style=\"color:white;\n",
    "           display:fill;\n",
    "           border-radius:5px;\n",
    "           background-color:#D4AC0D;\n",
    "           font-size:200%;\n",
    "           font-family:Serif;\n",
    "           letter-spacing:0.5px\">\n",
    "\n",
    "<p style=\"padding: 10px;\n",
    "          color:black;\n",
    "          font-size:120%;\n",
    "          text-align:center;\">\n",
    "Import libraries\n",
    "</p>\n",
    "</div>\n"
   ]
  },
  {
   "cell_type": "code",
   "execution_count": 1,
   "id": "110480d4",
   "metadata": {
    "execution": {
     "iopub.execute_input": "2023-02-08T16:37:10.568227Z",
     "iopub.status.busy": "2023-02-08T16:37:10.567191Z",
     "iopub.status.idle": "2023-02-08T16:37:11.850506Z",
     "shell.execute_reply": "2023-02-08T16:37:11.848873Z"
    },
    "papermill": {
     "duration": 1.299367,
     "end_time": "2023-02-08T16:37:11.853659",
     "exception": false,
     "start_time": "2023-02-08T16:37:10.554292",
     "status": "completed"
    },
    "tags": []
   },
   "outputs": [],
   "source": [
    "#import libraries \n",
    "import numpy as np\n",
    "import pandas as pd\n",
    "import matplotlib.pyplot as plt\n",
    "import seaborn as sns\n",
    "import missingno as msno\n"
   ]
  },
  {
   "cell_type": "markdown",
   "id": "6c10ef50",
   "metadata": {
    "papermill": {
     "duration": 0.010239,
     "end_time": "2023-02-08T16:37:11.876298",
     "exception": false,
     "start_time": "2023-02-08T16:37:11.866059",
     "status": "completed"
    },
    "tags": []
   },
   "source": [
    "<div style=\"color:white;\n",
    "           display:fill;\n",
    "           border-radius:5px;\n",
    "           background-color:#D4AC0D;\n",
    "           font-size:200%;\n",
    "           font-family:Serif;\n",
    "           letter-spacing:0.5px\">\n",
    "\n",
    "<p style=\"padding: 10px;\n",
    "          color:black;\n",
    "          font-size:120%;\n",
    "          text-align:center;\">\n",
    "Read dataset\n",
    "</p>\n",
    "</div>\n"
   ]
  },
  {
   "cell_type": "code",
   "execution_count": 2,
   "id": "3aa433a4",
   "metadata": {
    "execution": {
     "iopub.execute_input": "2023-02-08T16:37:11.899850Z",
     "iopub.status.busy": "2023-02-08T16:37:11.899423Z",
     "iopub.status.idle": "2023-02-08T16:37:11.940589Z",
     "shell.execute_reply": "2023-02-08T16:37:11.939018Z"
    },
    "papermill": {
     "duration": 0.056397,
     "end_time": "2023-02-08T16:37:11.943847",
     "exception": false,
     "start_time": "2023-02-08T16:37:11.887450",
     "status": "completed"
    },
    "tags": []
   },
   "outputs": [],
   "source": [
    "df = pd.read_csv(\"/kaggle/input/imdb-dataset-of-top-1000-movies-and-tv-shows/imdb_top_1000.csv\")"
   ]
  },
  {
   "cell_type": "markdown",
   "id": "cc3ea5dd",
   "metadata": {
    "papermill": {
     "duration": 0.010127,
     "end_time": "2023-02-08T16:37:11.964574",
     "exception": false,
     "start_time": "2023-02-08T16:37:11.954447",
     "status": "completed"
    },
    "tags": []
   },
   "source": [
    "<div style=\"color:white;\n",
    "           display:fill;\n",
    "           border-radius:5px;\n",
    "           background-color:#D4AC0D;\n",
    "           font-size:200%;\n",
    "           font-family:Serif;\n",
    "           letter-spacing:0.5px\">\n",
    "\n",
    "<p style=\"padding: 10px;\n",
    "          color:black;\n",
    "          font-size:120%;\n",
    "          text-align:center;\">\n",
    "Get information about data\n",
    "</p>\n",
    "</div>\n"
   ]
  },
  {
   "cell_type": "code",
   "execution_count": 3,
   "id": "8cba4f7f",
   "metadata": {
    "execution": {
     "iopub.execute_input": "2023-02-08T16:37:11.988446Z",
     "iopub.status.busy": "2023-02-08T16:37:11.987582Z",
     "iopub.status.idle": "2023-02-08T16:37:12.021950Z",
     "shell.execute_reply": "2023-02-08T16:37:12.020551Z"
    },
    "papermill": {
     "duration": 0.049619,
     "end_time": "2023-02-08T16:37:12.025134",
     "exception": false,
     "start_time": "2023-02-08T16:37:11.975515",
     "status": "completed"
    },
    "tags": []
   },
   "outputs": [
    {
     "data": {
      "text/html": [
       "<div>\n",
       "<style scoped>\n",
       "    .dataframe tbody tr th:only-of-type {\n",
       "        vertical-align: middle;\n",
       "    }\n",
       "\n",
       "    .dataframe tbody tr th {\n",
       "        vertical-align: top;\n",
       "    }\n",
       "\n",
       "    .dataframe thead th {\n",
       "        text-align: right;\n",
       "    }\n",
       "</style>\n",
       "<table border=\"1\" class=\"dataframe\">\n",
       "  <thead>\n",
       "    <tr style=\"text-align: right;\">\n",
       "      <th></th>\n",
       "      <th>Poster_Link</th>\n",
       "      <th>Series_Title</th>\n",
       "      <th>Released_Year</th>\n",
       "      <th>Certificate</th>\n",
       "      <th>Runtime</th>\n",
       "      <th>Genre</th>\n",
       "      <th>IMDB_Rating</th>\n",
       "      <th>Overview</th>\n",
       "      <th>Meta_score</th>\n",
       "      <th>Director</th>\n",
       "      <th>Star1</th>\n",
       "      <th>Star2</th>\n",
       "      <th>Star3</th>\n",
       "      <th>Star4</th>\n",
       "      <th>No_of_Votes</th>\n",
       "      <th>Gross</th>\n",
       "    </tr>\n",
       "  </thead>\n",
       "  <tbody>\n",
       "    <tr>\n",
       "      <th>0</th>\n",
       "      <td>https://m.media-amazon.com/images/M/MV5BMDFkYT...</td>\n",
       "      <td>The Shawshank Redemption</td>\n",
       "      <td>1994</td>\n",
       "      <td>A</td>\n",
       "      <td>142 min</td>\n",
       "      <td>Drama</td>\n",
       "      <td>9.3</td>\n",
       "      <td>Two imprisoned men bond over a number of years...</td>\n",
       "      <td>80.0</td>\n",
       "      <td>Frank Darabont</td>\n",
       "      <td>Tim Robbins</td>\n",
       "      <td>Morgan Freeman</td>\n",
       "      <td>Bob Gunton</td>\n",
       "      <td>William Sadler</td>\n",
       "      <td>2343110</td>\n",
       "      <td>28,341,469</td>\n",
       "    </tr>\n",
       "    <tr>\n",
       "      <th>1</th>\n",
       "      <td>https://m.media-amazon.com/images/M/MV5BM2MyNj...</td>\n",
       "      <td>The Godfather</td>\n",
       "      <td>1972</td>\n",
       "      <td>A</td>\n",
       "      <td>175 min</td>\n",
       "      <td>Crime, Drama</td>\n",
       "      <td>9.2</td>\n",
       "      <td>An organized crime dynasty's aging patriarch t...</td>\n",
       "      <td>100.0</td>\n",
       "      <td>Francis Ford Coppola</td>\n",
       "      <td>Marlon Brando</td>\n",
       "      <td>Al Pacino</td>\n",
       "      <td>James Caan</td>\n",
       "      <td>Diane Keaton</td>\n",
       "      <td>1620367</td>\n",
       "      <td>134,966,411</td>\n",
       "    </tr>\n",
       "    <tr>\n",
       "      <th>2</th>\n",
       "      <td>https://m.media-amazon.com/images/M/MV5BMTMxNT...</td>\n",
       "      <td>The Dark Knight</td>\n",
       "      <td>2008</td>\n",
       "      <td>UA</td>\n",
       "      <td>152 min</td>\n",
       "      <td>Action, Crime, Drama</td>\n",
       "      <td>9.0</td>\n",
       "      <td>When the menace known as the Joker wreaks havo...</td>\n",
       "      <td>84.0</td>\n",
       "      <td>Christopher Nolan</td>\n",
       "      <td>Christian Bale</td>\n",
       "      <td>Heath Ledger</td>\n",
       "      <td>Aaron Eckhart</td>\n",
       "      <td>Michael Caine</td>\n",
       "      <td>2303232</td>\n",
       "      <td>534,858,444</td>\n",
       "    </tr>\n",
       "    <tr>\n",
       "      <th>3</th>\n",
       "      <td>https://m.media-amazon.com/images/M/MV5BMWMwMG...</td>\n",
       "      <td>The Godfather: Part II</td>\n",
       "      <td>1974</td>\n",
       "      <td>A</td>\n",
       "      <td>202 min</td>\n",
       "      <td>Crime, Drama</td>\n",
       "      <td>9.0</td>\n",
       "      <td>The early life and career of Vito Corleone in ...</td>\n",
       "      <td>90.0</td>\n",
       "      <td>Francis Ford Coppola</td>\n",
       "      <td>Al Pacino</td>\n",
       "      <td>Robert De Niro</td>\n",
       "      <td>Robert Duvall</td>\n",
       "      <td>Diane Keaton</td>\n",
       "      <td>1129952</td>\n",
       "      <td>57,300,000</td>\n",
       "    </tr>\n",
       "    <tr>\n",
       "      <th>4</th>\n",
       "      <td>https://m.media-amazon.com/images/M/MV5BMWU4N2...</td>\n",
       "      <td>12 Angry Men</td>\n",
       "      <td>1957</td>\n",
       "      <td>U</td>\n",
       "      <td>96 min</td>\n",
       "      <td>Crime, Drama</td>\n",
       "      <td>9.0</td>\n",
       "      <td>A jury holdout attempts to prevent a miscarria...</td>\n",
       "      <td>96.0</td>\n",
       "      <td>Sidney Lumet</td>\n",
       "      <td>Henry Fonda</td>\n",
       "      <td>Lee J. Cobb</td>\n",
       "      <td>Martin Balsam</td>\n",
       "      <td>John Fiedler</td>\n",
       "      <td>689845</td>\n",
       "      <td>4,360,000</td>\n",
       "    </tr>\n",
       "  </tbody>\n",
       "</table>\n",
       "</div>"
      ],
      "text/plain": [
       "                                         Poster_Link  \\\n",
       "0  https://m.media-amazon.com/images/M/MV5BMDFkYT...   \n",
       "1  https://m.media-amazon.com/images/M/MV5BM2MyNj...   \n",
       "2  https://m.media-amazon.com/images/M/MV5BMTMxNT...   \n",
       "3  https://m.media-amazon.com/images/M/MV5BMWMwMG...   \n",
       "4  https://m.media-amazon.com/images/M/MV5BMWU4N2...   \n",
       "\n",
       "               Series_Title Released_Year Certificate  Runtime  \\\n",
       "0  The Shawshank Redemption          1994           A  142 min   \n",
       "1             The Godfather          1972           A  175 min   \n",
       "2           The Dark Knight          2008          UA  152 min   \n",
       "3    The Godfather: Part II          1974           A  202 min   \n",
       "4              12 Angry Men          1957           U   96 min   \n",
       "\n",
       "                  Genre  IMDB_Rating  \\\n",
       "0                 Drama          9.3   \n",
       "1          Crime, Drama          9.2   \n",
       "2  Action, Crime, Drama          9.0   \n",
       "3          Crime, Drama          9.0   \n",
       "4          Crime, Drama          9.0   \n",
       "\n",
       "                                            Overview  Meta_score  \\\n",
       "0  Two imprisoned men bond over a number of years...        80.0   \n",
       "1  An organized crime dynasty's aging patriarch t...       100.0   \n",
       "2  When the menace known as the Joker wreaks havo...        84.0   \n",
       "3  The early life and career of Vito Corleone in ...        90.0   \n",
       "4  A jury holdout attempts to prevent a miscarria...        96.0   \n",
       "\n",
       "               Director           Star1           Star2          Star3  \\\n",
       "0        Frank Darabont     Tim Robbins  Morgan Freeman     Bob Gunton   \n",
       "1  Francis Ford Coppola   Marlon Brando       Al Pacino     James Caan   \n",
       "2     Christopher Nolan  Christian Bale    Heath Ledger  Aaron Eckhart   \n",
       "3  Francis Ford Coppola       Al Pacino  Robert De Niro  Robert Duvall   \n",
       "4          Sidney Lumet     Henry Fonda     Lee J. Cobb  Martin Balsam   \n",
       "\n",
       "            Star4  No_of_Votes        Gross  \n",
       "0  William Sadler      2343110   28,341,469  \n",
       "1    Diane Keaton      1620367  134,966,411  \n",
       "2   Michael Caine      2303232  534,858,444  \n",
       "3    Diane Keaton      1129952   57,300,000  \n",
       "4    John Fiedler       689845    4,360,000  "
      ]
     },
     "execution_count": 3,
     "metadata": {},
     "output_type": "execute_result"
    }
   ],
   "source": [
    "df.head()"
   ]
  },
  {
   "cell_type": "code",
   "execution_count": 4,
   "id": "3a3d3fb9",
   "metadata": {
    "execution": {
     "iopub.execute_input": "2023-02-08T16:37:12.049362Z",
     "iopub.status.busy": "2023-02-08T16:37:12.048965Z",
     "iopub.status.idle": "2023-02-08T16:37:12.073381Z",
     "shell.execute_reply": "2023-02-08T16:37:12.072373Z"
    },
    "papermill": {
     "duration": 0.039653,
     "end_time": "2023-02-08T16:37:12.075931",
     "exception": false,
     "start_time": "2023-02-08T16:37:12.036278",
     "status": "completed"
    },
    "tags": []
   },
   "outputs": [
    {
     "data": {
      "text/html": [
       "<div>\n",
       "<style scoped>\n",
       "    .dataframe tbody tr th:only-of-type {\n",
       "        vertical-align: middle;\n",
       "    }\n",
       "\n",
       "    .dataframe tbody tr th {\n",
       "        vertical-align: top;\n",
       "    }\n",
       "\n",
       "    .dataframe thead th {\n",
       "        text-align: right;\n",
       "    }\n",
       "</style>\n",
       "<table border=\"1\" class=\"dataframe\">\n",
       "  <thead>\n",
       "    <tr style=\"text-align: right;\">\n",
       "      <th></th>\n",
       "      <th>Poster_Link</th>\n",
       "      <th>Series_Title</th>\n",
       "      <th>Released_Year</th>\n",
       "      <th>Certificate</th>\n",
       "      <th>Runtime</th>\n",
       "      <th>Genre</th>\n",
       "      <th>IMDB_Rating</th>\n",
       "      <th>Overview</th>\n",
       "      <th>Meta_score</th>\n",
       "      <th>Director</th>\n",
       "      <th>Star1</th>\n",
       "      <th>Star2</th>\n",
       "      <th>Star3</th>\n",
       "      <th>Star4</th>\n",
       "      <th>No_of_Votes</th>\n",
       "      <th>Gross</th>\n",
       "    </tr>\n",
       "  </thead>\n",
       "  <tbody>\n",
       "    <tr>\n",
       "      <th>511</th>\n",
       "      <td>https://m.media-amazon.com/images/M/MV5BM2JkNG...</td>\n",
       "      <td>The Bourne Identity</td>\n",
       "      <td>2002</td>\n",
       "      <td>UA</td>\n",
       "      <td>119 min</td>\n",
       "      <td>Action, Mystery, Thriller</td>\n",
       "      <td>7.9</td>\n",
       "      <td>A man is picked up by a fishing boat, bullet-r...</td>\n",
       "      <td>68.0</td>\n",
       "      <td>Doug Liman</td>\n",
       "      <td>Franka Potente</td>\n",
       "      <td>Matt Damon</td>\n",
       "      <td>Chris Cooper</td>\n",
       "      <td>Clive Owen</td>\n",
       "      <td>508771</td>\n",
       "      <td>121,661,683</td>\n",
       "    </tr>\n",
       "    <tr>\n",
       "      <th>730</th>\n",
       "      <td>https://m.media-amazon.com/images/M/MV5BYTM3ZT...</td>\n",
       "      <td>Kingsman: The Secret Service</td>\n",
       "      <td>2014</td>\n",
       "      <td>A</td>\n",
       "      <td>129 min</td>\n",
       "      <td>Action, Adventure, Comedy</td>\n",
       "      <td>7.7</td>\n",
       "      <td>A spy organisation recruits a promising street...</td>\n",
       "      <td>60.0</td>\n",
       "      <td>Matthew Vaughn</td>\n",
       "      <td>Colin Firth</td>\n",
       "      <td>Taron Egerton</td>\n",
       "      <td>Samuel L. Jackson</td>\n",
       "      <td>Michael Caine</td>\n",
       "      <td>590440</td>\n",
       "      <td>128,261,724</td>\n",
       "    </tr>\n",
       "    <tr>\n",
       "      <th>944</th>\n",
       "      <td>https://m.media-amazon.com/images/M/MV5BMDc2MG...</td>\n",
       "      <td>Batoru rowaiaru</td>\n",
       "      <td>2000</td>\n",
       "      <td>NaN</td>\n",
       "      <td>114 min</td>\n",
       "      <td>Action, Adventure, Drama</td>\n",
       "      <td>7.6</td>\n",
       "      <td>In the future, the Japanese government capture...</td>\n",
       "      <td>81.0</td>\n",
       "      <td>Kinji Fukasaku</td>\n",
       "      <td>Tatsuya Fujiwara</td>\n",
       "      <td>Aki Maeda</td>\n",
       "      <td>Tarô Yamamoto</td>\n",
       "      <td>Takeshi Kitano</td>\n",
       "      <td>169091</td>\n",
       "      <td>NaN</td>\n",
       "    </tr>\n",
       "    <tr>\n",
       "      <th>539</th>\n",
       "      <td>https://m.media-amazon.com/images/M/MV5BYzQ5Nj...</td>\n",
       "      <td>Le charme discret de la bourgeoisie</td>\n",
       "      <td>1972</td>\n",
       "      <td>PG</td>\n",
       "      <td>102 min</td>\n",
       "      <td>Comedy</td>\n",
       "      <td>7.9</td>\n",
       "      <td>A surreal, virtually plotless series of dreams...</td>\n",
       "      <td>93.0</td>\n",
       "      <td>Luis Buñuel</td>\n",
       "      <td>Fernando Rey</td>\n",
       "      <td>Delphine Seyrig</td>\n",
       "      <td>Paul Frankeur</td>\n",
       "      <td>Bulle Ogier</td>\n",
       "      <td>38737</td>\n",
       "      <td>198,809</td>\n",
       "    </tr>\n",
       "    <tr>\n",
       "      <th>598</th>\n",
       "      <td>https://m.media-amazon.com/images/M/MV5BMzllMW...</td>\n",
       "      <td>Moonrise Kingdom</td>\n",
       "      <td>2012</td>\n",
       "      <td>A</td>\n",
       "      <td>94 min</td>\n",
       "      <td>Comedy, Drama, Romance</td>\n",
       "      <td>7.8</td>\n",
       "      <td>A pair of young lovers flee their New England ...</td>\n",
       "      <td>84.0</td>\n",
       "      <td>Wes Anderson</td>\n",
       "      <td>Jared Gilman</td>\n",
       "      <td>Kara Hayward</td>\n",
       "      <td>Bruce Willis</td>\n",
       "      <td>Bill Murray</td>\n",
       "      <td>318789</td>\n",
       "      <td>45,512,466</td>\n",
       "    </tr>\n",
       "  </tbody>\n",
       "</table>\n",
       "</div>"
      ],
      "text/plain": [
       "                                           Poster_Link  \\\n",
       "511  https://m.media-amazon.com/images/M/MV5BM2JkNG...   \n",
       "730  https://m.media-amazon.com/images/M/MV5BYTM3ZT...   \n",
       "944  https://m.media-amazon.com/images/M/MV5BMDc2MG...   \n",
       "539  https://m.media-amazon.com/images/M/MV5BYzQ5Nj...   \n",
       "598  https://m.media-amazon.com/images/M/MV5BMzllMW...   \n",
       "\n",
       "                            Series_Title Released_Year Certificate  Runtime  \\\n",
       "511                  The Bourne Identity          2002          UA  119 min   \n",
       "730         Kingsman: The Secret Service          2014           A  129 min   \n",
       "944                      Batoru rowaiaru          2000         NaN  114 min   \n",
       "539  Le charme discret de la bourgeoisie          1972          PG  102 min   \n",
       "598                     Moonrise Kingdom          2012           A   94 min   \n",
       "\n",
       "                         Genre  IMDB_Rating  \\\n",
       "511  Action, Mystery, Thriller          7.9   \n",
       "730  Action, Adventure, Comedy          7.7   \n",
       "944   Action, Adventure, Drama          7.6   \n",
       "539                     Comedy          7.9   \n",
       "598     Comedy, Drama, Romance          7.8   \n",
       "\n",
       "                                              Overview  Meta_score  \\\n",
       "511  A man is picked up by a fishing boat, bullet-r...        68.0   \n",
       "730  A spy organisation recruits a promising street...        60.0   \n",
       "944  In the future, the Japanese government capture...        81.0   \n",
       "539  A surreal, virtually plotless series of dreams...        93.0   \n",
       "598  A pair of young lovers flee their New England ...        84.0   \n",
       "\n",
       "           Director             Star1            Star2              Star3  \\\n",
       "511      Doug Liman    Franka Potente       Matt Damon       Chris Cooper   \n",
       "730  Matthew Vaughn       Colin Firth    Taron Egerton  Samuel L. Jackson   \n",
       "944  Kinji Fukasaku  Tatsuya Fujiwara        Aki Maeda      Tarô Yamamoto   \n",
       "539     Luis Buñuel      Fernando Rey  Delphine Seyrig      Paul Frankeur   \n",
       "598    Wes Anderson      Jared Gilman     Kara Hayward       Bruce Willis   \n",
       "\n",
       "              Star4  No_of_Votes        Gross  \n",
       "511      Clive Owen       508771  121,661,683  \n",
       "730   Michael Caine       590440  128,261,724  \n",
       "944  Takeshi Kitano       169091          NaN  \n",
       "539     Bulle Ogier        38737      198,809  \n",
       "598     Bill Murray       318789   45,512,466  "
      ]
     },
     "execution_count": 4,
     "metadata": {},
     "output_type": "execute_result"
    }
   ],
   "source": [
    "df.sample(5)"
   ]
  },
  {
   "cell_type": "code",
   "execution_count": 5,
   "id": "4b4d999a",
   "metadata": {
    "execution": {
     "iopub.execute_input": "2023-02-08T16:37:12.101471Z",
     "iopub.status.busy": "2023-02-08T16:37:12.100749Z",
     "iopub.status.idle": "2023-02-08T16:37:12.129873Z",
     "shell.execute_reply": "2023-02-08T16:37:12.128602Z"
    },
    "papermill": {
     "duration": 0.044783,
     "end_time": "2023-02-08T16:37:12.132236",
     "exception": false,
     "start_time": "2023-02-08T16:37:12.087453",
     "status": "completed"
    },
    "tags": []
   },
   "outputs": [
    {
     "name": "stdout",
     "output_type": "stream",
     "text": [
      "<class 'pandas.core.frame.DataFrame'>\n",
      "RangeIndex: 1000 entries, 0 to 999\n",
      "Data columns (total 16 columns):\n",
      " #   Column         Non-Null Count  Dtype  \n",
      "---  ------         --------------  -----  \n",
      " 0   Poster_Link    1000 non-null   object \n",
      " 1   Series_Title   1000 non-null   object \n",
      " 2   Released_Year  1000 non-null   object \n",
      " 3   Certificate    899 non-null    object \n",
      " 4   Runtime        1000 non-null   object \n",
      " 5   Genre          1000 non-null   object \n",
      " 6   IMDB_Rating    1000 non-null   float64\n",
      " 7   Overview       1000 non-null   object \n",
      " 8   Meta_score     843 non-null    float64\n",
      " 9   Director       1000 non-null   object \n",
      " 10  Star1          1000 non-null   object \n",
      " 11  Star2          1000 non-null   object \n",
      " 12  Star3          1000 non-null   object \n",
      " 13  Star4          1000 non-null   object \n",
      " 14  No_of_Votes    1000 non-null   int64  \n",
      " 15  Gross          831 non-null    object \n",
      "dtypes: float64(2), int64(1), object(13)\n",
      "memory usage: 125.1+ KB\n"
     ]
    }
   ],
   "source": [
    "df.info()"
   ]
  },
  {
   "cell_type": "code",
   "execution_count": 6,
   "id": "72250bdc",
   "metadata": {
    "execution": {
     "iopub.execute_input": "2023-02-08T16:37:12.157393Z",
     "iopub.status.busy": "2023-02-08T16:37:12.156428Z",
     "iopub.status.idle": "2023-02-08T16:37:12.182931Z",
     "shell.execute_reply": "2023-02-08T16:37:12.181638Z"
    },
    "papermill": {
     "duration": 0.041816,
     "end_time": "2023-02-08T16:37:12.185410",
     "exception": false,
     "start_time": "2023-02-08T16:37:12.143594",
     "status": "completed"
    },
    "tags": []
   },
   "outputs": [
    {
     "data": {
      "text/html": [
       "<div>\n",
       "<style scoped>\n",
       "    .dataframe tbody tr th:only-of-type {\n",
       "        vertical-align: middle;\n",
       "    }\n",
       "\n",
       "    .dataframe tbody tr th {\n",
       "        vertical-align: top;\n",
       "    }\n",
       "\n",
       "    .dataframe thead th {\n",
       "        text-align: right;\n",
       "    }\n",
       "</style>\n",
       "<table border=\"1\" class=\"dataframe\">\n",
       "  <thead>\n",
       "    <tr style=\"text-align: right;\">\n",
       "      <th></th>\n",
       "      <th>IMDB_Rating</th>\n",
       "      <th>Meta_score</th>\n",
       "      <th>No_of_Votes</th>\n",
       "    </tr>\n",
       "  </thead>\n",
       "  <tbody>\n",
       "    <tr>\n",
       "      <th>count</th>\n",
       "      <td>1000.000000</td>\n",
       "      <td>843.000000</td>\n",
       "      <td>1.000000e+03</td>\n",
       "    </tr>\n",
       "    <tr>\n",
       "      <th>mean</th>\n",
       "      <td>7.949300</td>\n",
       "      <td>77.971530</td>\n",
       "      <td>2.736929e+05</td>\n",
       "    </tr>\n",
       "    <tr>\n",
       "      <th>std</th>\n",
       "      <td>0.275491</td>\n",
       "      <td>12.376099</td>\n",
       "      <td>3.273727e+05</td>\n",
       "    </tr>\n",
       "    <tr>\n",
       "      <th>min</th>\n",
       "      <td>7.600000</td>\n",
       "      <td>28.000000</td>\n",
       "      <td>2.508800e+04</td>\n",
       "    </tr>\n",
       "    <tr>\n",
       "      <th>25%</th>\n",
       "      <td>7.700000</td>\n",
       "      <td>70.000000</td>\n",
       "      <td>5.552625e+04</td>\n",
       "    </tr>\n",
       "    <tr>\n",
       "      <th>50%</th>\n",
       "      <td>7.900000</td>\n",
       "      <td>79.000000</td>\n",
       "      <td>1.385485e+05</td>\n",
       "    </tr>\n",
       "    <tr>\n",
       "      <th>75%</th>\n",
       "      <td>8.100000</td>\n",
       "      <td>87.000000</td>\n",
       "      <td>3.741612e+05</td>\n",
       "    </tr>\n",
       "    <tr>\n",
       "      <th>max</th>\n",
       "      <td>9.300000</td>\n",
       "      <td>100.000000</td>\n",
       "      <td>2.343110e+06</td>\n",
       "    </tr>\n",
       "  </tbody>\n",
       "</table>\n",
       "</div>"
      ],
      "text/plain": [
       "       IMDB_Rating  Meta_score   No_of_Votes\n",
       "count  1000.000000  843.000000  1.000000e+03\n",
       "mean      7.949300   77.971530  2.736929e+05\n",
       "std       0.275491   12.376099  3.273727e+05\n",
       "min       7.600000   28.000000  2.508800e+04\n",
       "25%       7.700000   70.000000  5.552625e+04\n",
       "50%       7.900000   79.000000  1.385485e+05\n",
       "75%       8.100000   87.000000  3.741612e+05\n",
       "max       9.300000  100.000000  2.343110e+06"
      ]
     },
     "execution_count": 6,
     "metadata": {},
     "output_type": "execute_result"
    }
   ],
   "source": [
    "df.describe()"
   ]
  },
  {
   "cell_type": "code",
   "execution_count": 7,
   "id": "9bbd1985",
   "metadata": {
    "execution": {
     "iopub.execute_input": "2023-02-08T16:37:12.212263Z",
     "iopub.status.busy": "2023-02-08T16:37:12.211210Z",
     "iopub.status.idle": "2023-02-08T16:37:12.218555Z",
     "shell.execute_reply": "2023-02-08T16:37:12.217348Z"
    },
    "papermill": {
     "duration": 0.025568,
     "end_time": "2023-02-08T16:37:12.222714",
     "exception": false,
     "start_time": "2023-02-08T16:37:12.197146",
     "status": "completed"
    },
    "tags": []
   },
   "outputs": [
    {
     "data": {
      "text/plain": [
       "Index(['Poster_Link', 'Series_Title', 'Released_Year', 'Certificate',\n",
       "       'Runtime', 'Genre', 'IMDB_Rating', 'Overview', 'Meta_score', 'Director',\n",
       "       'Star1', 'Star2', 'Star3', 'Star4', 'No_of_Votes', 'Gross'],\n",
       "      dtype='object')"
      ]
     },
     "execution_count": 7,
     "metadata": {},
     "output_type": "execute_result"
    }
   ],
   "source": [
    "df.columns"
   ]
  },
  {
   "cell_type": "markdown",
   "id": "f7ed476f",
   "metadata": {
    "papermill": {
     "duration": 0.011986,
     "end_time": "2023-02-08T16:37:12.247042",
     "exception": false,
     "start_time": "2023-02-08T16:37:12.235056",
     "status": "completed"
    },
    "tags": []
   },
   "source": [
    "<div style=\"color:white;\n",
    "           display:fill;\n",
    "           border-radius:5px;\n",
    "           background-color:#D4AC0D;\n",
    "           font-size:200%;\n",
    "           font-family:Serif;\n",
    "           letter-spacing:0.5px\">\n",
    "\n",
    "<p style=\"padding: 10px;\n",
    "          color:black;\n",
    "          font-size:120%;\n",
    "          text-align:center;\">\n",
    "Data cleaning\n",
    "</p>\n",
    "</div>\n"
   ]
  },
  {
   "cell_type": "markdown",
   "id": "c7ee99c5",
   "metadata": {
    "papermill": {
     "duration": 0.011493,
     "end_time": "2023-02-08T16:37:12.270966",
     "exception": false,
     "start_time": "2023-02-08T16:37:12.259473",
     "status": "completed"
    },
    "tags": []
   },
   "source": [
    "<p style=\"background-color:#7D6608;color:white;font-size:200%;\"> Duplicates </p>"
   ]
  },
  {
   "cell_type": "code",
   "execution_count": 8,
   "id": "d9105d53",
   "metadata": {
    "execution": {
     "iopub.execute_input": "2023-02-08T16:37:12.297031Z",
     "iopub.status.busy": "2023-02-08T16:37:12.296447Z",
     "iopub.status.idle": "2023-02-08T16:37:12.316572Z",
     "shell.execute_reply": "2023-02-08T16:37:12.315659Z"
    },
    "papermill": {
     "duration": 0.036156,
     "end_time": "2023-02-08T16:37:12.319091",
     "exception": false,
     "start_time": "2023-02-08T16:37:12.282935",
     "status": "completed"
    },
    "tags": []
   },
   "outputs": [
    {
     "data": {
      "text/html": [
       "<div>\n",
       "<style scoped>\n",
       "    .dataframe tbody tr th:only-of-type {\n",
       "        vertical-align: middle;\n",
       "    }\n",
       "\n",
       "    .dataframe tbody tr th {\n",
       "        vertical-align: top;\n",
       "    }\n",
       "\n",
       "    .dataframe thead th {\n",
       "        text-align: right;\n",
       "    }\n",
       "</style>\n",
       "<table border=\"1\" class=\"dataframe\">\n",
       "  <thead>\n",
       "    <tr style=\"text-align: right;\">\n",
       "      <th></th>\n",
       "      <th>Poster_Link</th>\n",
       "      <th>Series_Title</th>\n",
       "      <th>Released_Year</th>\n",
       "      <th>Certificate</th>\n",
       "      <th>Runtime</th>\n",
       "      <th>Genre</th>\n",
       "      <th>IMDB_Rating</th>\n",
       "      <th>Overview</th>\n",
       "      <th>Meta_score</th>\n",
       "      <th>Director</th>\n",
       "      <th>Star1</th>\n",
       "      <th>Star2</th>\n",
       "      <th>Star3</th>\n",
       "      <th>Star4</th>\n",
       "      <th>No_of_Votes</th>\n",
       "      <th>Gross</th>\n",
       "    </tr>\n",
       "  </thead>\n",
       "  <tbody>\n",
       "  </tbody>\n",
       "</table>\n",
       "</div>"
      ],
      "text/plain": [
       "Empty DataFrame\n",
       "Columns: [Poster_Link, Series_Title, Released_Year, Certificate, Runtime, Genre, IMDB_Rating, Overview, Meta_score, Director, Star1, Star2, Star3, Star4, No_of_Votes, Gross]\n",
       "Index: []"
      ]
     },
     "execution_count": 8,
     "metadata": {},
     "output_type": "execute_result"
    }
   ],
   "source": [
    "df[df.duplicated()]"
   ]
  },
  {
   "cell_type": "markdown",
   "id": "5256ccc6",
   "metadata": {
    "papermill": {
     "duration": 0.015124,
     "end_time": "2023-02-08T16:37:12.353004",
     "exception": false,
     "start_time": "2023-02-08T16:37:12.337880",
     "status": "completed"
    },
    "tags": []
   },
   "source": [
    "<p style=\"color:#574E23;\n",
    "          font-size:22px;\"> -> No duplicated data </p>"
   ]
  },
  {
   "cell_type": "markdown",
   "id": "c077f1ce",
   "metadata": {
    "papermill": {
     "duration": 0.017133,
     "end_time": "2023-02-08T16:37:12.383988",
     "exception": false,
     "start_time": "2023-02-08T16:37:12.366855",
     "status": "completed"
    },
    "tags": []
   },
   "source": [
    "<p style=\"background-color:#7D6608;color:white;font-size:200%;\">Un Necessary Columns</p>"
   ]
  },
  {
   "cell_type": "code",
   "execution_count": 9,
   "id": "f9d1c716",
   "metadata": {
    "execution": {
     "iopub.execute_input": "2023-02-08T16:37:12.417698Z",
     "iopub.status.busy": "2023-02-08T16:37:12.416833Z",
     "iopub.status.idle": "2023-02-08T16:37:12.425858Z",
     "shell.execute_reply": "2023-02-08T16:37:12.423821Z"
    },
    "papermill": {
     "duration": 0.029388,
     "end_time": "2023-02-08T16:37:12.428887",
     "exception": false,
     "start_time": "2023-02-08T16:37:12.399499",
     "status": "completed"
    },
    "tags": []
   },
   "outputs": [],
   "source": [
    "df.drop(['Poster_Link', 'Series_Title','Poster_Link', 'Series_Title','Overview'],axis=1,inplace=True)"
   ]
  },
  {
   "cell_type": "markdown",
   "id": "2a29a52a",
   "metadata": {
    "papermill": {
     "duration": 0.011655,
     "end_time": "2023-02-08T16:37:12.452957",
     "exception": false,
     "start_time": "2023-02-08T16:37:12.441302",
     "status": "completed"
    },
    "tags": []
   },
   "source": [
    "<p style=\"color:#574E23;\n",
    "          font-size:22px;\"> -> Un necessary coluns removed </p>"
   ]
  },
  {
   "cell_type": "markdown",
   "id": "b3b5099c",
   "metadata": {
    "papermill": {
     "duration": 0.011744,
     "end_time": "2023-02-08T16:37:12.476692",
     "exception": false,
     "start_time": "2023-02-08T16:37:12.464948",
     "status": "completed"
    },
    "tags": []
   },
   "source": [
    "<p style=\"background-color:#7D6608;color:white;font-size:200%;\">Null data</p>"
   ]
  },
  {
   "cell_type": "code",
   "execution_count": 10,
   "id": "ca669122",
   "metadata": {
    "execution": {
     "iopub.execute_input": "2023-02-08T16:37:12.503596Z",
     "iopub.status.busy": "2023-02-08T16:37:12.503208Z",
     "iopub.status.idle": "2023-02-08T16:37:12.514418Z",
     "shell.execute_reply": "2023-02-08T16:37:12.513105Z"
    },
    "papermill": {
     "duration": 0.027803,
     "end_time": "2023-02-08T16:37:12.517172",
     "exception": false,
     "start_time": "2023-02-08T16:37:12.489369",
     "status": "completed"
    },
    "tags": []
   },
   "outputs": [
    {
     "data": {
      "text/plain": [
       "Released_Year      0\n",
       "Certificate      101\n",
       "Runtime            0\n",
       "Genre              0\n",
       "IMDB_Rating        0\n",
       "Meta_score       157\n",
       "Director           0\n",
       "Star1              0\n",
       "Star2              0\n",
       "Star3              0\n",
       "Star4              0\n",
       "No_of_Votes        0\n",
       "Gross            169\n",
       "dtype: int64"
      ]
     },
     "execution_count": 10,
     "metadata": {},
     "output_type": "execute_result"
    }
   ],
   "source": [
    "df.isnull().sum()"
   ]
  },
  {
   "cell_type": "code",
   "execution_count": 11,
   "id": "634b90b3",
   "metadata": {
    "execution": {
     "iopub.execute_input": "2023-02-08T16:37:12.543383Z",
     "iopub.status.busy": "2023-02-08T16:37:12.542925Z",
     "iopub.status.idle": "2023-02-08T16:37:12.550747Z",
     "shell.execute_reply": "2023-02-08T16:37:12.549402Z"
    },
    "papermill": {
     "duration": 0.023476,
     "end_time": "2023-02-08T16:37:12.552960",
     "exception": false,
     "start_time": "2023-02-08T16:37:12.529484",
     "status": "completed"
    },
    "tags": []
   },
   "outputs": [],
   "source": [
    "#because the most movies is \"U\" :General Viewing for all ages \n",
    "df['Certificate'].fillna('U',inplace=True)\n",
    "\n",
    "df['Meta_score'].fillna(df['Meta_score'].mean(),inplace=True)\n"
   ]
  },
  {
   "cell_type": "code",
   "execution_count": 12,
   "id": "25045f41",
   "metadata": {
    "execution": {
     "iopub.execute_input": "2023-02-08T16:37:12.579798Z",
     "iopub.status.busy": "2023-02-08T16:37:12.579368Z",
     "iopub.status.idle": "2023-02-08T16:37:12.591439Z",
     "shell.execute_reply": "2023-02-08T16:37:12.590007Z"
    },
    "papermill": {
     "duration": 0.028734,
     "end_time": "2023-02-08T16:37:12.593947",
     "exception": false,
     "start_time": "2023-02-08T16:37:12.565213",
     "status": "completed"
    },
    "tags": []
   },
   "outputs": [],
   "source": [
    "#convert type to int to deal with it \n",
    "df[\"Gross\"] = df[\"Gross\"].str.replace(\",\",\"\")\n",
    "df[\"Gross\"] = df[\"Gross\"].replace(np.nan, 0)\n",
    "df[\"Gross\"] = df[\"Gross\"].astype(int)\n",
    "\n",
    "# fill null data with the avg gross\n",
    "df[\"Gross\"] = df[\"Gross\"].replace(0,df['Gross'].mean())"
   ]
  },
  {
   "cell_type": "code",
   "execution_count": 13,
   "id": "55ff364c",
   "metadata": {
    "execution": {
     "iopub.execute_input": "2023-02-08T16:37:12.620414Z",
     "iopub.status.busy": "2023-02-08T16:37:12.619963Z",
     "iopub.status.idle": "2023-02-08T16:37:12.631315Z",
     "shell.execute_reply": "2023-02-08T16:37:12.630047Z"
    },
    "papermill": {
     "duration": 0.027226,
     "end_time": "2023-02-08T16:37:12.633818",
     "exception": false,
     "start_time": "2023-02-08T16:37:12.606592",
     "status": "completed"
    },
    "tags": []
   },
   "outputs": [
    {
     "data": {
      "text/plain": [
       "Released_Year    0\n",
       "Certificate      0\n",
       "Runtime          0\n",
       "Genre            0\n",
       "IMDB_Rating      0\n",
       "Meta_score       0\n",
       "Director         0\n",
       "Star1            0\n",
       "Star2            0\n",
       "Star3            0\n",
       "Star4            0\n",
       "No_of_Votes      0\n",
       "Gross            0\n",
       "dtype: int64"
      ]
     },
     "execution_count": 13,
     "metadata": {},
     "output_type": "execute_result"
    }
   ],
   "source": [
    "df.isnull().sum()"
   ]
  },
  {
   "cell_type": "markdown",
   "id": "22a16288",
   "metadata": {
    "papermill": {
     "duration": 0.011832,
     "end_time": "2023-02-08T16:37:12.657928",
     "exception": false,
     "start_time": "2023-02-08T16:37:12.646096",
     "status": "completed"
    },
    "tags": []
   },
   "source": [
    "<p style=\"color:#574E23;\n",
    "          font-size:22px;\"> -> Null data is handled </p>"
   ]
  },
  {
   "cell_type": "markdown",
   "id": "e4f6941b",
   "metadata": {
    "papermill": {
     "duration": 0.012577,
     "end_time": "2023-02-08T16:37:12.683451",
     "exception": false,
     "start_time": "2023-02-08T16:37:12.670874",
     "status": "completed"
    },
    "tags": []
   },
   "source": [
    "<p style=\"background-color:#7D6608;color:white;font-size:200%;\"> Validate column types </p>"
   ]
  },
  {
   "cell_type": "code",
   "execution_count": 14,
   "id": "d82e2550",
   "metadata": {
    "execution": {
     "iopub.execute_input": "2023-02-08T16:37:12.710005Z",
     "iopub.status.busy": "2023-02-08T16:37:12.709518Z",
     "iopub.status.idle": "2023-02-08T16:37:12.724503Z",
     "shell.execute_reply": "2023-02-08T16:37:12.722971Z"
    },
    "papermill": {
     "duration": 0.031963,
     "end_time": "2023-02-08T16:37:12.727672",
     "exception": false,
     "start_time": "2023-02-08T16:37:12.695709",
     "status": "completed"
    },
    "tags": []
   },
   "outputs": [
    {
     "name": "stdout",
     "output_type": "stream",
     "text": [
      "<class 'pandas.core.frame.DataFrame'>\n",
      "RangeIndex: 1000 entries, 0 to 999\n",
      "Data columns (total 13 columns):\n",
      " #   Column         Non-Null Count  Dtype  \n",
      "---  ------         --------------  -----  \n",
      " 0   Released_Year  1000 non-null   object \n",
      " 1   Certificate    1000 non-null   object \n",
      " 2   Runtime        1000 non-null   object \n",
      " 3   Genre          1000 non-null   object \n",
      " 4   IMDB_Rating    1000 non-null   float64\n",
      " 5   Meta_score     1000 non-null   float64\n",
      " 6   Director       1000 non-null   object \n",
      " 7   Star1          1000 non-null   object \n",
      " 8   Star2          1000 non-null   object \n",
      " 9   Star3          1000 non-null   object \n",
      " 10  Star4          1000 non-null   object \n",
      " 11  No_of_Votes    1000 non-null   int64  \n",
      " 12  Gross          1000 non-null   float64\n",
      "dtypes: float64(3), int64(1), object(9)\n",
      "memory usage: 101.7+ KB\n"
     ]
    }
   ],
   "source": [
    "df.info()"
   ]
  },
  {
   "cell_type": "code",
   "execution_count": 15,
   "id": "22d70664",
   "metadata": {
    "execution": {
     "iopub.execute_input": "2023-02-08T16:37:12.757037Z",
     "iopub.status.busy": "2023-02-08T16:37:12.756600Z",
     "iopub.status.idle": "2023-02-08T16:37:12.767897Z",
     "shell.execute_reply": "2023-02-08T16:37:12.766507Z"
    },
    "papermill": {
     "duration": 0.028682,
     "end_time": "2023-02-08T16:37:12.770644",
     "exception": false,
     "start_time": "2023-02-08T16:37:12.741962",
     "status": "completed"
    },
    "tags": []
   },
   "outputs": [],
   "source": [
    "\n",
    "df[\"Runtime\"] = df[\"Runtime\"].str.extract('([^\\s]+)')\n",
    "df[\"Runtime\"] = df[\"Runtime\"][~(df[\"Runtime\"] == \"min\")]\n",
    "df[\"Runtime\"] = df[\"Runtime\"].astype(int)"
   ]
  },
  {
   "cell_type": "code",
   "execution_count": 16,
   "id": "8111e955",
   "metadata": {
    "execution": {
     "iopub.execute_input": "2023-02-08T16:37:12.798109Z",
     "iopub.status.busy": "2023-02-08T16:37:12.797710Z",
     "iopub.status.idle": "2023-02-08T16:37:12.807926Z",
     "shell.execute_reply": "2023-02-08T16:37:12.806493Z"
    },
    "papermill": {
     "duration": 0.02715,
     "end_time": "2023-02-08T16:37:12.810287",
     "exception": false,
     "start_time": "2023-02-08T16:37:12.783137",
     "status": "completed"
    },
    "tags": []
   },
   "outputs": [
    {
     "data": {
      "text/plain": [
       "2014    32\n",
       "2004    31\n",
       "2009    29\n",
       "2013    28\n",
       "2016    28\n",
       "        ..\n",
       "1926     1\n",
       "1936     1\n",
       "1924     1\n",
       "1921     1\n",
       "PG       1\n",
       "Name: Released_Year, Length: 100, dtype: int64"
      ]
     },
     "execution_count": 16,
     "metadata": {},
     "output_type": "execute_result"
    }
   ],
   "source": [
    "df['Released_Year'].value_counts()"
   ]
  },
  {
   "cell_type": "code",
   "execution_count": 17,
   "id": "e5261497",
   "metadata": {
    "execution": {
     "iopub.execute_input": "2023-02-08T16:37:12.838186Z",
     "iopub.status.busy": "2023-02-08T16:37:12.837788Z",
     "iopub.status.idle": "2023-02-08T16:37:12.845741Z",
     "shell.execute_reply": "2023-02-08T16:37:12.844327Z"
    },
    "papermill": {
     "duration": 0.024317,
     "end_time": "2023-02-08T16:37:12.848201",
     "exception": false,
     "start_time": "2023-02-08T16:37:12.823884",
     "status": "completed"
    },
    "tags": []
   },
   "outputs": [],
   "source": [
    "#drop row contain 'PG' to convert the column to int datatype\n",
    "df = df.drop(labels=966, axis=0)"
   ]
  },
  {
   "cell_type": "code",
   "execution_count": 18,
   "id": "5632ae54",
   "metadata": {
    "execution": {
     "iopub.execute_input": "2023-02-08T16:37:12.877352Z",
     "iopub.status.busy": "2023-02-08T16:37:12.876944Z",
     "iopub.status.idle": "2023-02-08T16:37:12.884266Z",
     "shell.execute_reply": "2023-02-08T16:37:12.882840Z"
    },
    "papermill": {
     "duration": 0.024678,
     "end_time": "2023-02-08T16:37:12.886908",
     "exception": false,
     "start_time": "2023-02-08T16:37:12.862230",
     "status": "completed"
    },
    "tags": []
   },
   "outputs": [],
   "source": [
    "df['Released_Year']=df['Released_Year'].astype(int)"
   ]
  },
  {
   "cell_type": "markdown",
   "id": "7034a59e",
   "metadata": {
    "papermill": {
     "duration": 0.012157,
     "end_time": "2023-02-08T16:37:12.912734",
     "exception": false,
     "start_time": "2023-02-08T16:37:12.900577",
     "status": "completed"
    },
    "tags": []
   },
   "source": [
    "<p style=\"color:#574E23;\n",
    "          font-size:22px;\"> -> Columns data types validated </p>"
   ]
  },
  {
   "cell_type": "markdown",
   "id": "1986b205",
   "metadata": {
    "papermill": {
     "duration": 0.012493,
     "end_time": "2023-02-08T16:37:12.937680",
     "exception": false,
     "start_time": "2023-02-08T16:37:12.925187",
     "status": "completed"
    },
    "tags": []
   },
   "source": [
    "<div style=\"color:white;\n",
    "           display:fill;\n",
    "           border-radius:5px;\n",
    "           background-color:#D4AC0D;\n",
    "           font-size:200%;\n",
    "           font-family:Serif;\n",
    "           letter-spacing:0.5px\">\n",
    "\n",
    "<p style=\"padding: 10px;\n",
    "          color:black;\n",
    "          font-size:120%;\n",
    "          text-align:center;\">\n",
    "Data visualization & getting conclusions\n",
    "</p>\n",
    "</div>\n"
   ]
  },
  {
   "cell_type": "code",
   "execution_count": 19,
   "id": "f43b3e61",
   "metadata": {
    "execution": {
     "iopub.execute_input": "2023-02-08T16:37:12.965168Z",
     "iopub.status.busy": "2023-02-08T16:37:12.964736Z",
     "iopub.status.idle": "2023-02-08T16:37:13.320052Z",
     "shell.execute_reply": "2023-02-08T16:37:13.318373Z"
    },
    "papermill": {
     "duration": 0.372579,
     "end_time": "2023-02-08T16:37:13.322739",
     "exception": false,
     "start_time": "2023-02-08T16:37:12.950160",
     "status": "completed"
    },
    "tags": []
   },
   "outputs": [
    {
     "name": "stderr",
     "output_type": "stream",
     "text": [
      "/opt/conda/lib/python3.7/site-packages/seaborn/_decorators.py:43: FutureWarning: Pass the following variable as a keyword arg: x. From version 0.12, the only valid positional argument will be `data`, and passing other arguments without an explicit keyword will result in an error or misinterpretation.\n",
      "  FutureWarning\n"
     ]
    },
    {
     "data": {
      "text/plain": [
       "(array([ 0,  1,  2,  3,  4,  5,  6,  7,  8,  9, 10, 11, 12, 13, 14, 15]),\n",
       " [Text(0, 0, 'A'),\n",
       "  Text(1, 0, 'UA'),\n",
       "  Text(2, 0, 'U'),\n",
       "  Text(3, 0, 'PG-13'),\n",
       "  Text(4, 0, 'R'),\n",
       "  Text(5, 0, 'PG'),\n",
       "  Text(6, 0, 'G'),\n",
       "  Text(7, 0, 'Passed'),\n",
       "  Text(8, 0, 'TV-14'),\n",
       "  Text(9, 0, '16'),\n",
       "  Text(10, 0, 'TV-MA'),\n",
       "  Text(11, 0, 'Unrated'),\n",
       "  Text(12, 0, 'GP'),\n",
       "  Text(13, 0, 'Approved'),\n",
       "  Text(14, 0, 'TV-PG'),\n",
       "  Text(15, 0, 'U/A')])"
      ]
     },
     "execution_count": 19,
     "metadata": {},
     "output_type": "execute_result"
    },
    {
     "data": {
      "image/png": "[encoded data removed]",
      "text/plain": [
       "<Figure size 1080x576 with 1 Axes>"
      ]
     },
     "metadata": {
      "needs_background": "light"
     },
     "output_type": "display_data"
    }
   ],
   "source": [
    "plt.figure(figsize=(15,8))\n",
    "sns.countplot('Certificate',color='#B7950B',data=df)\n",
    "plt.xticks(rotation = 'vertical')"
   ]
  },
  {
   "cell_type": "markdown",
   "id": "4aa9c89b",
   "metadata": {
    "papermill": {
     "duration": 0.012758,
     "end_time": "2023-02-08T16:37:13.348994",
     "exception": false,
     "start_time": "2023-02-08T16:37:13.336236",
     "status": "completed"
    },
    "tags": []
   },
   "source": [
    "<p style=\"color:#574E23;\n",
    "          font-size:22px;\"> -> Most movies was 'U' IMDB certificate i.e suitable for all ages</p>\n"
   ]
  },
  {
   "cell_type": "code",
   "execution_count": 20,
   "id": "d525d11f",
   "metadata": {
    "execution": {
     "iopub.execute_input": "2023-02-08T16:37:13.378331Z",
     "iopub.status.busy": "2023-02-08T16:37:13.377893Z",
     "iopub.status.idle": "2023-02-08T16:37:13.401025Z",
     "shell.execute_reply": "2023-02-08T16:37:13.399738Z"
    },
    "papermill": {
     "duration": 0.040866,
     "end_time": "2023-02-08T16:37:13.403921",
     "exception": false,
     "start_time": "2023-02-08T16:37:13.363055",
     "status": "completed"
    },
    "tags": []
   },
   "outputs": [
    {
     "data": {
      "text/html": [
       "<div>\n",
       "<style scoped>\n",
       "    .dataframe tbody tr th:only-of-type {\n",
       "        vertical-align: middle;\n",
       "    }\n",
       "\n",
       "    .dataframe tbody tr th {\n",
       "        vertical-align: top;\n",
       "    }\n",
       "\n",
       "    .dataframe thead th {\n",
       "        text-align: right;\n",
       "    }\n",
       "</style>\n",
       "<table border=\"1\" class=\"dataframe\">\n",
       "  <thead>\n",
       "    <tr style=\"text-align: right;\">\n",
       "      <th></th>\n",
       "      <th>Genre</th>\n",
       "      <th>IMDB_Rating</th>\n",
       "    </tr>\n",
       "  </thead>\n",
       "  <tbody>\n",
       "    <tr>\n",
       "      <th>0</th>\n",
       "      <td>Animation, Drama, War</td>\n",
       "      <td>8.50</td>\n",
       "    </tr>\n",
       "    <tr>\n",
       "      <th>1</th>\n",
       "      <td>Drama, Musical</td>\n",
       "      <td>8.40</td>\n",
       "    </tr>\n",
       "    <tr>\n",
       "      <th>2</th>\n",
       "      <td>Action, Sci-Fi</td>\n",
       "      <td>8.40</td>\n",
       "    </tr>\n",
       "    <tr>\n",
       "      <th>3</th>\n",
       "      <td>Drama, Mystery, War</td>\n",
       "      <td>8.35</td>\n",
       "    </tr>\n",
       "    <tr>\n",
       "      <th>4</th>\n",
       "      <td>Western</td>\n",
       "      <td>8.35</td>\n",
       "    </tr>\n",
       "    <tr>\n",
       "      <th>5</th>\n",
       "      <td>Crime, Drama, Music</td>\n",
       "      <td>8.30</td>\n",
       "    </tr>\n",
       "    <tr>\n",
       "      <th>6</th>\n",
       "      <td>Mystery, Romance, Thriller</td>\n",
       "      <td>8.30</td>\n",
       "    </tr>\n",
       "    <tr>\n",
       "      <th>7</th>\n",
       "      <td>Adventure, Mystery, Thriller</td>\n",
       "      <td>8.30</td>\n",
       "    </tr>\n",
       "    <tr>\n",
       "      <th>8</th>\n",
       "      <td>Drama, Fantasy, Horror</td>\n",
       "      <td>8.30</td>\n",
       "    </tr>\n",
       "    <tr>\n",
       "      <th>9</th>\n",
       "      <td>Comedy, Musical, Romance</td>\n",
       "      <td>8.30</td>\n",
       "    </tr>\n",
       "  </tbody>\n",
       "</table>\n",
       "</div>"
      ],
      "text/plain": [
       "                          Genre  IMDB_Rating\n",
       "0         Animation, Drama, War         8.50\n",
       "1                Drama, Musical         8.40\n",
       "2                Action, Sci-Fi         8.40\n",
       "3           Drama, Mystery, War         8.35\n",
       "4                       Western         8.35\n",
       "5           Crime, Drama, Music         8.30\n",
       "6    Mystery, Romance, Thriller         8.30\n",
       "7  Adventure, Mystery, Thriller         8.30\n",
       "8        Drama, Fantasy, Horror         8.30\n",
       "9      Comedy, Musical, Romance         8.30"
      ]
     },
     "execution_count": 20,
     "metadata": {},
     "output_type": "execute_result"
    }
   ],
   "source": [
    "top_rates=df.groupby('Genre').mean().sort_values('IMDB_Rating',ascending=False).head(10)\n",
    "top_rates = top_rates[['IMDB_Rating']].round(2)\n",
    "top_rates.reset_index(inplace=True)\n",
    "top_rates"
   ]
  },
  {
   "cell_type": "code",
   "execution_count": 21,
   "id": "1fd127a7",
   "metadata": {
    "execution": {
     "iopub.execute_input": "2023-02-08T16:37:13.432954Z",
     "iopub.status.busy": "2023-02-08T16:37:13.432524Z",
     "iopub.status.idle": "2023-02-08T16:37:13.732843Z",
     "shell.execute_reply": "2023-02-08T16:37:13.731675Z"
    },
    "papermill": {
     "duration": 0.31801,
     "end_time": "2023-02-08T16:37:13.735405",
     "exception": false,
     "start_time": "2023-02-08T16:37:13.417395",
     "status": "completed"
    },
    "tags": []
   },
   "outputs": [
    {
     "data": {
      "image/png": "[encoded data removed]",
      "text/plain": [
       "<Figure size 1080x576 with 1 Axes>"
      ]
     },
     "metadata": {
      "needs_background": "light"
     },
     "output_type": "display_data"
    }
   ],
   "source": [
    "plt.figure(figsize=(15,8))\n",
    "plt.bar(top_rates['Genre'],top_rates['IMDB_Rating'],color='#B7950B',edgecolor='black' )\n",
    "plt.xticks(rotation='vertical')\n",
    "for k,v in top_rates['IMDB_Rating'].items():\n",
    "    plt.text(k,v-2,str(v),rotation=90)"
   ]
  },
  {
   "cell_type": "markdown",
   "id": "2663e986",
   "metadata": {
    "papermill": {
     "duration": 0.013308,
     "end_time": "2023-02-08T16:37:13.762488",
     "exception": false,
     "start_time": "2023-02-08T16:37:13.749180",
     "status": "completed"
    },
    "tags": []
   },
   "source": [
    "<p style=\"color:#574E23;\n",
    "          font-size:22px;\"> -> Movies whos genre 'Animation, Drama, War' acieved the most rate </p>\n"
   ]
  },
  {
   "cell_type": "code",
   "execution_count": 22,
   "id": "f2a6364d",
   "metadata": {
    "execution": {
     "iopub.execute_input": "2023-02-08T16:37:13.792470Z",
     "iopub.status.busy": "2023-02-08T16:37:13.791675Z",
     "iopub.status.idle": "2023-02-08T16:37:14.091356Z",
     "shell.execute_reply": "2023-02-08T16:37:14.090182Z"
    },
    "papermill": {
     "duration": 0.317894,
     "end_time": "2023-02-08T16:37:14.094066",
     "exception": false,
     "start_time": "2023-02-08T16:37:13.776172",
     "status": "completed"
    },
    "tags": []
   },
   "outputs": [
    {
     "data": {
      "image/png": "[encoded data removed]",
      "text/plain": [
       "<Figure size 1080x576 with 1 Axes>"
      ]
     },
     "metadata": {
      "needs_background": "light"
     },
     "output_type": "display_data"
    }
   ],
   "source": [
    "top_rates=df.groupby('Genre').mean().sort_values('Meta_score',ascending=False).head(10)\n",
    "top_rates = top_rates[['Meta_score']].round(2)\n",
    "top_rates.reset_index(inplace=True)\n",
    "\n",
    "plt.figure(figsize=(15,8))\n",
    "plt.bar(top_rates['Genre'],top_rates['Meta_score'],color='#B7950B',edgecolor='black' )\n",
    "plt.xticks(rotation='vertical')\n",
    "for k,v in top_rates['Meta_score'].items():\n",
    "    plt.text(k,v-11,str(v),rotation=90)"
   ]
  },
  {
   "cell_type": "markdown",
   "id": "ad83d3b4",
   "metadata": {
    "papermill": {
     "duration": 0.014483,
     "end_time": "2023-02-08T16:37:14.122743",
     "exception": false,
     "start_time": "2023-02-08T16:37:14.108260",
     "status": "completed"
    },
    "tags": []
   },
   "source": [
    "<p style=\"color:#574E23;\n",
    "          font-size:22px;\"> -> Movies whose genre 'Mystery, Romance, Thriller' achieved higher meta score </p>\n"
   ]
  },
  {
   "cell_type": "code",
   "execution_count": 23,
   "id": "2d7fbe86",
   "metadata": {
    "execution": {
     "iopub.execute_input": "2023-02-08T16:37:14.155777Z",
     "iopub.status.busy": "2023-02-08T16:37:14.155224Z",
     "iopub.status.idle": "2023-02-08T16:37:14.491197Z",
     "shell.execute_reply": "2023-02-08T16:37:14.489896Z"
    },
    "papermill": {
     "duration": 0.355129,
     "end_time": "2023-02-08T16:37:14.494039",
     "exception": false,
     "start_time": "2023-02-08T16:37:14.138910",
     "status": "completed"
    },
    "tags": []
   },
   "outputs": [
    {
     "data": {
      "image/png": "[encoded data removed]",
      "text/plain": [
       "<Figure size 1080x576 with 1 Axes>"
      ]
     },
     "metadata": {
      "needs_background": "light"
     },
     "output_type": "display_data"
    }
   ],
   "source": [
    "top_earn = df.groupby('Genre').sum().sort_values('Gross',ascending=False).head(10)\n",
    "top_earn=top_earn[['Gross']]\n",
    "top_earn.reset_index(inplace=True)\n",
    "\n",
    "plt.figure(figsize=(15,8))\n",
    "plt.bar(top_earn['Genre'],top_earn['Gross'],color='#B7950B',edgecolor='black')\n",
    "plt.xticks(rotation='vertical')\n",
    "for k,v in top_earn['Gross'].items():\n",
    "    plt.text(k,v-1450000000,str(v),rotation=90)"
   ]
  },
  {
   "cell_type": "markdown",
   "id": "dfbc1ae6",
   "metadata": {
    "papermill": {
     "duration": 0.015033,
     "end_time": "2023-02-08T16:37:14.524469",
     "exception": false,
     "start_time": "2023-02-08T16:37:14.509436",
     "status": "completed"
    },
    "tags": []
   },
   "source": [
    "<p style=\"color:#574E23;\n",
    "          font-size:22px;\"> -> Movies whose genre 'Action,Adventure ,Sci-Fi' achieve the most earnings </p>\n"
   ]
  },
  {
   "cell_type": "code",
   "execution_count": 24,
   "id": "4b82f55e",
   "metadata": {
    "execution": {
     "iopub.execute_input": "2023-02-08T16:37:14.557842Z",
     "iopub.status.busy": "2023-02-08T16:37:14.557416Z",
     "iopub.status.idle": "2023-02-08T16:37:15.136488Z",
     "shell.execute_reply": "2023-02-08T16:37:15.135089Z"
    },
    "papermill": {
     "duration": 0.599346,
     "end_time": "2023-02-08T16:37:15.139416",
     "exception": false,
     "start_time": "2023-02-08T16:37:14.540070",
     "status": "completed"
    },
    "tags": []
   },
   "outputs": [
    {
     "data": {
      "text/plain": [
       "(array([ 0,  1,  2,  3,  4,  5,  6,  7,  8,  9, 10, 11, 12, 13, 14, 15]),\n",
       " [Text(0, 0, 'A'),\n",
       "  Text(1, 0, 'UA'),\n",
       "  Text(2, 0, 'U'),\n",
       "  Text(3, 0, 'PG-13'),\n",
       "  Text(4, 0, 'R'),\n",
       "  Text(5, 0, 'PG'),\n",
       "  Text(6, 0, 'G'),\n",
       "  Text(7, 0, 'Passed'),\n",
       "  Text(8, 0, 'TV-14'),\n",
       "  Text(9, 0, '16'),\n",
       "  Text(10, 0, 'TV-MA'),\n",
       "  Text(11, 0, 'Unrated'),\n",
       "  Text(12, 0, 'GP'),\n",
       "  Text(13, 0, 'Approved'),\n",
       "  Text(14, 0, 'TV-PG'),\n",
       "  Text(15, 0, 'U/A')])"
      ]
     },
     "execution_count": 24,
     "metadata": {},
     "output_type": "execute_result"
    },
    {
     "data": {
      "image/png": "[encoded data removed]",
      "text/plain": [
       "<Figure size 1080x576 with 1 Axes>"
      ]
     },
     "metadata": {
      "needs_background": "light"
     },
     "output_type": "display_data"
    }
   ],
   "source": [
    "plt.figure(figsize=(15,8))\n",
    "sns.barplot(x='Certificate',y='Gross',color='#B7950B',data=df,ci=False)\n",
    "plt.xticks(rotation='vertical')"
   ]
  },
  {
   "cell_type": "markdown",
   "id": "835c262c",
   "metadata": {
    "papermill": {
     "duration": 0.016217,
     "end_time": "2023-02-08T16:37:15.171402",
     "exception": false,
     "start_time": "2023-02-08T16:37:15.155185",
     "status": "completed"
    },
    "tags": []
   },
   "source": [
    "<p style=\"color:#574E23;\n",
    "          font-size:22px;\"> -> Movies whose certificates 'UA' acheived more earnings </p>\n"
   ]
  },
  {
   "cell_type": "code",
   "execution_count": 25,
   "id": "3d7054d7",
   "metadata": {
    "execution": {
     "iopub.execute_input": "2023-02-08T16:37:15.205024Z",
     "iopub.status.busy": "2023-02-08T16:37:15.204265Z",
     "iopub.status.idle": "2023-02-08T16:37:15.525442Z",
     "shell.execute_reply": "2023-02-08T16:37:15.524078Z"
    },
    "papermill": {
     "duration": 0.341313,
     "end_time": "2023-02-08T16:37:15.528405",
     "exception": false,
     "start_time": "2023-02-08T16:37:15.187092",
     "status": "completed"
    },
    "tags": []
   },
   "outputs": [
    {
     "data": {
      "image/png": "[encoded data removed]",
      "text/plain": [
       "<Figure size 1080x576 with 1 Axes>"
      ]
     },
     "metadata": {
      "needs_background": "light"
     },
     "output_type": "display_data"
    }
   ],
   "source": [
    "top_director=df.groupby('Director').mean().sort_values('Gross').head(10)\n",
    "top_director=top_director[['IMDB_Rating']]\n",
    "top_director.reset_index(inplace=True)\n",
    "\n",
    "plt.figure(figsize=(15,8))\n",
    "sns.barplot(x='Director',y='IMDB_Rating',data=top_director,color='#B7950B',edgecolor='black')\n",
    "plt.xticks(rotation='vertical')\n",
    "\n",
    "for k,v in top_director['IMDB_Rating'].items():\n",
    "    plt.text(k,v-2,str(v),rotation=90)"
   ]
  },
  {
   "cell_type": "markdown",
   "id": "ba827a64",
   "metadata": {
    "papermill": {
     "duration": 0.017884,
     "end_time": "2023-02-08T16:37:15.564022",
     "exception": false,
     "start_time": "2023-02-08T16:37:15.546138",
     "status": "completed"
    },
    "tags": []
   },
   "source": [
    "<p style=\"color:#574E23;\n",
    "          font-size:22px;\"> -> The director 'Tigmanshu Dhulia' achieved the most high imdb rates </p>\n"
   ]
  },
  {
   "cell_type": "code",
   "execution_count": 26,
   "id": "71ac403a",
   "metadata": {
    "execution": {
     "iopub.execute_input": "2023-02-08T16:37:15.599775Z",
     "iopub.status.busy": "2023-02-08T16:37:15.599156Z",
     "iopub.status.idle": "2023-02-08T16:37:15.994483Z",
     "shell.execute_reply": "2023-02-08T16:37:15.993244Z"
    },
    "papermill": {
     "duration": 0.416095,
     "end_time": "2023-02-08T16:37:15.997291",
     "exception": false,
     "start_time": "2023-02-08T16:37:15.581196",
     "status": "completed"
    },
    "tags": []
   },
   "outputs": [
    {
     "data": {
      "text/plain": [
       "<AxesSubplot:xlabel='IMDB_Rating', ylabel='Gross'>"
      ]
     },
     "execution_count": 26,
     "metadata": {},
     "output_type": "execute_result"
    },
    {
     "data": {
      "image/png": "[encoded data removed]",
      "text/plain": [
       "<Figure size 720x576 with 1 Axes>"
      ]
     },
     "metadata": {
      "needs_background": "light"
     },
     "output_type": "display_data"
    }
   ],
   "source": [
    "plt.figure(figsize=(10,8))\n",
    "sns.regplot(x='IMDB_Rating',y='Gross',data=df,color='#F1C40F')"
   ]
  },
  {
   "cell_type": "markdown",
   "id": "49d5a1cf",
   "metadata": {
    "papermill": {
     "duration": 0.015894,
     "end_time": "2023-02-08T16:37:16.029335",
     "exception": false,
     "start_time": "2023-02-08T16:37:16.013441",
     "status": "completed"
    },
    "tags": []
   },
   "source": [
    "<p style=\"color:#574E23;\n",
    "          font-size:22px;\"> -> There's a week positive relationship between IMDB rating and earnings of the movie </p>\n"
   ]
  },
  {
   "cell_type": "code",
   "execution_count": 27,
   "id": "d064f25c",
   "metadata": {
    "execution": {
     "iopub.execute_input": "2023-02-08T16:37:16.063479Z",
     "iopub.status.busy": "2023-02-08T16:37:16.063092Z",
     "iopub.status.idle": "2023-02-08T16:37:16.455936Z",
     "shell.execute_reply": "2023-02-08T16:37:16.454716Z"
    },
    "papermill": {
     "duration": 0.412984,
     "end_time": "2023-02-08T16:37:16.458461",
     "exception": false,
     "start_time": "2023-02-08T16:37:16.045477",
     "status": "completed"
    },
    "tags": []
   },
   "outputs": [
    {
     "data": {
      "text/plain": [
       "<AxesSubplot:xlabel='Meta_score', ylabel='Gross'>"
      ]
     },
     "execution_count": 27,
     "metadata": {},
     "output_type": "execute_result"
    },
    {
     "data": {
      "image/png": "[encoded data removed]",
      "text/plain": [
       "<Figure size 720x576 with 1 Axes>"
      ]
     },
     "metadata": {
      "needs_background": "light"
     },
     "output_type": "display_data"
    }
   ],
   "source": [
    "plt.figure(figsize=(10,8))\n",
    "sns.regplot(x='Meta_score',y='Gross',data=df,color='#F1C40F')"
   ]
  },
  {
   "cell_type": "markdown",
   "id": "ae9040df",
   "metadata": {
    "papermill": {
     "duration": 0.016813,
     "end_time": "2023-02-08T16:37:16.492353",
     "exception": false,
     "start_time": "2023-02-08T16:37:16.475540",
     "status": "completed"
    },
    "tags": []
   },
   "source": [
    "<p style=\"color:#574E23;\n",
    "          font-size:22px;\"> -> Approximately the higher meta score movie gain the higher earnings </p>\n"
   ]
  },
  {
   "cell_type": "code",
   "execution_count": 28,
   "id": "e7ecd7a9",
   "metadata": {
    "execution": {
     "iopub.execute_input": "2023-02-08T16:37:16.528200Z",
     "iopub.status.busy": "2023-02-08T16:37:16.527771Z",
     "iopub.status.idle": "2023-02-08T16:37:16.927671Z",
     "shell.execute_reply": "2023-02-08T16:37:16.926715Z"
    },
    "papermill": {
     "duration": 0.42093,
     "end_time": "2023-02-08T16:37:16.930125",
     "exception": false,
     "start_time": "2023-02-08T16:37:16.509195",
     "status": "completed"
    },
    "tags": []
   },
   "outputs": [
    {
     "name": "stderr",
     "output_type": "stream",
     "text": [
      "/opt/conda/lib/python3.7/site-packages/seaborn/_decorators.py:43: FutureWarning: Pass the following variables as keyword args: x, y. From version 0.12, the only valid positional argument will be `data`, and passing other arguments without an explicit keyword will result in an error or misinterpretation.\n",
      "  FutureWarning\n"
     ]
    },
    {
     "data": {
      "text/plain": [
       "<AxesSubplot:xlabel='Runtime', ylabel='IMDB_Rating'>"
      ]
     },
     "execution_count": 28,
     "metadata": {},
     "output_type": "execute_result"
    },
    {
     "data": {
      "image/png": "[encoded data removed]",
      "text/plain": [
       "<Figure size 720x576 with 1 Axes>"
      ]
     },
     "metadata": {
      "needs_background": "light"
     },
     "output_type": "display_data"
    }
   ],
   "source": [
    "plt.figure(figsize=(10,8))\n",
    "sns.regplot('Runtime','IMDB_Rating',data=df,color='#F1C40F')"
   ]
  },
  {
   "cell_type": "markdown",
   "id": "14d21c46",
   "metadata": {
    "papermill": {
     "duration": 0.017722,
     "end_time": "2023-02-08T16:37:16.965682",
     "exception": false,
     "start_time": "2023-02-08T16:37:16.947960",
     "status": "completed"
    },
    "tags": []
   },
   "source": [
    "<p style=\"color:#574E23;\n",
    "          font-size:22px;\"> -> There is strong relation between Runtime and the rate of movie </p>\n"
   ]
  },
  {
   "cell_type": "code",
   "execution_count": 29,
   "id": "4a14a32a",
   "metadata": {
    "execution": {
     "iopub.execute_input": "2023-02-08T16:37:17.003028Z",
     "iopub.status.busy": "2023-02-08T16:37:17.002101Z",
     "iopub.status.idle": "2023-02-08T16:37:17.398764Z",
     "shell.execute_reply": "2023-02-08T16:37:17.397378Z"
    },
    "papermill": {
     "duration": 0.418289,
     "end_time": "2023-02-08T16:37:17.401494",
     "exception": false,
     "start_time": "2023-02-08T16:37:16.983205",
     "status": "completed"
    },
    "tags": []
   },
   "outputs": [
    {
     "data": {
      "text/plain": [
       "<AxesSubplot:xlabel='Runtime', ylabel='Meta_score'>"
      ]
     },
     "execution_count": 29,
     "metadata": {},
     "output_type": "execute_result"
    },
    {
     "data": {
      "image/png": "[encoded data removed]",
      "text/plain": [
       "<Figure size 720x576 with 1 Axes>"
      ]
     },
     "metadata": {
      "needs_background": "light"
     },
     "output_type": "display_data"
    }
   ],
   "source": [
    "plt.figure(figsize=(10,8))\n",
    "sns.regplot('Runtime','Meta_score',data=df,color='#F1C40F')"
   ]
  },
  {
   "cell_type": "markdown",
   "id": "fe6a2b6b",
   "metadata": {
    "papermill": {
     "duration": 0.018662,
     "end_time": "2023-02-08T16:37:17.438791",
     "exception": false,
     "start_time": "2023-02-08T16:37:17.420129",
     "status": "completed"
    },
    "tags": []
   },
   "source": [
    "<p style=\"color:#574E23;\n",
    "          font-size:22px;\"> -> Approximately there is no relation between Run time and meta score </p>\n"
   ]
  }
 ],
 "metadata": {
  "kernelspec": {
   "display_name": "Python 3",
   "language": "python",
   "name": "python3"
  },
  "language_info": {
   "codemirror_mode": {
    "name": "ipython",
    "version": 3
   },
   "file_extension": ".py",
   "mimetype": "text/x-python",
   "name": "python",
   "nbconvert_exporter": "python",
   "pygments_lexer": "ipython3",
   "version": "3.7.12"
  },
  "papermill": {
   "default_parameters": {},
   "duration": 16.883991,
   "end_time": "2023-02-08T16:37:18.280254",
   "environment_variables": {},
   "exception": null,
   "input_path": "__notebook__.ipynb",
   "output_path": "__notebook__.ipynb",
   "parameters": {},
   "start_time": "2023-02-08T16:37:01.396263",
   "version": "2.3.4"
  }
 },
 "nbformat": 4,
 "nbformat_minor": 5
}
